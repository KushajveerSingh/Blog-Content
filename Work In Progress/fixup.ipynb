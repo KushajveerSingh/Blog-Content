{
 "cells": [
  {
   "cell_type": "code",
   "execution_count": 1,
   "metadata": {},
   "outputs": [],
   "source": [
    "# Based on the wide resnet implementation by xternalz: https://github.com/xternalz/WideResNet-pytorch\n",
    "\n",
    "import torch\n",
    "import torch.nn as nn\n",
    "import torch.nn.functional as F\n",
    "import torch.optim as optim\n",
    "\n",
    "import numpy\n",
    "import matplotlib.pyplot as plt\n",
    "\n",
    "%matplotlib inline\n",
    "%load_ext autoreload\n",
    "%autoreload 2"
   ]
  },
  {
   "cell_type": "markdown",
   "metadata": {},
   "source": [
    "Construct the basic block of Resent based on the figure"
   ]
  },
  {
   "cell_type": "code",
   "execution_count": 3,
   "metadata": {},
   "outputs": [],
   "source": [
    "class BasicBlock(nn.Module):\n",
    "    def __init__(self, in_planes, out_planes, stride, layer_index):\n",
    "        super(BasicBlock, self).__init__()\n",
    "        \n",
    "        self.activation = nn.ReLU(inplace=True)\n",
    "        self.conv1 = nn.Conv2d(in_planes, out_planes, kernel_size=3, stride=stride, padding=1, bias=False)\n",
    "        self.conv2 = nn.Conv2d(out_planes, out_planes, kernel_size=3, stride=1, padding=1, bias=False)\n",
    "        self.equalInOut = (in_planes == out_planes)\n",
    "        self.convShortcut = (not self.equalInOut) and nn.Conv2d(in_planes, out_planes, kernel_size=1, stride=stride, padding=0, bias=False) or None\n",
    "        self.gain, self.biases = nn.Parameter(torch.ones(1, 1, 1, 1)), nn.ParameterList([nn.parameter(torch.zeros(1, 1, 1, 1)) for _ in range(4)])\n",
    "        self.layer_index = layer_index\n",
    "        \n",
    "    def shortcut(self, x):\n",
    "        if self.convShortcut is not None:\n",
    "            return self.convShortcut(self.activation(x))\n",
    "        else:\n",
    "            return x\n",
    "        \n",
    "    def residual(self, x):\n",
    "        out = x + self.biases[0]\n",
    "        out = self.conv1(out) + self.biases[1]\n",
    "        out = self.activation(out) + self.biases[2]\n",
    "        out = self.gain*self.conv2(out) + self.biases[3]\n",
    "        return out\n",
    "    \n",
    "    def forward(self, x):\n",
    "        return self.residual(x) + self.shortcut(x)"
   ]
  },
  {
   "cell_type": "code",
   "execution_count": null,
   "metadata": {},
   "outputs": [],
   "source": []
  }
 ],
 "metadata": {
  "kernelspec": {
   "display_name": "Python 3",
   "language": "python",
   "name": "python3"
  },
  "language_info": {
   "codemirror_mode": {
    "name": "ipython",
    "version": 3
   },
   "file_extension": ".py",
   "mimetype": "text/x-python",
   "name": "python",
   "nbconvert_exporter": "python",
   "pygments_lexer": "ipython3",
   "version": "3.7.2"
  }
 },
 "nbformat": 4,
 "nbformat_minor": 2
}
